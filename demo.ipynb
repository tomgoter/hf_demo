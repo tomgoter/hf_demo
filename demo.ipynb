{
 "cells": [
  {
   "cell_type": "markdown",
   "metadata": {},
   "source": [
    "# Hugging Face Demonstration with PyTorch\n",
    "## Text Classification\n",
    "### TP Goter\n",
    "### January 25, 2021"
   ]
  },
  {
   "cell_type": "code",
   "execution_count": 7,
   "metadata": {},
   "outputs": [],
   "source": [
    "import numpy as np\n",
    "%matplotlib inline\n",
    "from matplotlib import pyplot as plt\n",
    "import pandas as pd\n",
    "from transformers import TFBertForSequenceClassification, BertTokenizer\n",
    "from transformers import TFRobertaForSequenceClassification, RobertaTokenizer\n",
    "import os\n",
    "from pprint import pprint\n",
    "import tensorflow as tf\n",
    "from tqdm import tqdm\n",
    "from tensorflow.keras import layers, initializers"
   ]
  },
  {
   "cell_type": "code",
   "execution_count": 8,
   "metadata": {},
   "outputs": [],
   "source": [
    "from transformers import TFElectraForSequenceClassification, ElectraTokenizer"
   ]
  },
  {
   "cell_type": "code",
   "execution_count": 9,
   "metadata": {},
   "outputs": [],
   "source": [
    "from transformers import TFDistilBertForSequenceClassification"
   ]
  },
  {
   "cell_type": "code",
   "execution_count": 10,
   "metadata": {},
   "outputs": [
    {
     "name": "stdout",
     "output_type": "stream",
     "text": [
      "Numpy version: 1.18.5\n",
      "Pandas version: 1.1.2\n",
      "TensorFlow version: 2.3.1\n"
     ]
    }
   ],
   "source": [
    "print(f'Numpy version: {np.__version__}')\n",
    "print(f'Pandas version: {pd.__version__}')\n",
    "print(f'TensorFlow version: {tf.__version__}')"
   ]
  },
  {
   "cell_type": "markdown",
   "metadata": {},
   "source": [
    "## Load pre-trained BERT-Base model with tokenizer"
   ]
  },
  {
   "cell_type": "code",
   "execution_count": 6,
   "metadata": {},
   "outputs": [
    {
     "name": "stderr",
     "output_type": "stream",
     "text": [
      "All model checkpoint layers were used when initializing TFBertForSequenceClassification.\n",
      "\n",
      "Some layers of TFBertForSequenceClassification were not initialized from the model checkpoint at bert-base-uncased and are newly initialized: ['classifier']\n",
      "You should probably TRAIN this model on a down-stream task to be able to use it for predictions and inference.\n"
     ]
    }
   ],
   "source": [
    "model = TFBertForSequenceClassification.from_pretrained('bert-base-uncased', num_labels=4)\n",
    "tokenizer = BertTokenizer.from_pretrained('bert-base-uncased')\n",
    "rtokenizer = RobertaTokenizer.from_pretrained('roberta-base')"
   ]
  },
  {
   "cell_type": "markdown",
   "metadata": {},
   "source": [
    "### Using Subset of AG News Dataset\n",
    "\n",
    "#### Sourced from [this GitHub repo](https://github.com/mhjabreel/CharCnn_Keras)\n",
    "AG is a collection of more than 1 million news articles. News articles have been gathered from more than 2000 news sources by ComeToMyHead in more than 1 year of activity. ComeToMyHead is an academic news search engine which has been running since July, 2004. The dataset is provided by the academic comunity for research purposes in data mining (clustering, classification, etc), information retrieval (ranking, search, etc), xml, data compression, data streaming, and any other non-commercial activity. For more information, please refer to the link http://www.di.unipi.it/~gulli/AG_corpus_of_news_articles.html .\n",
    "\n",
    "The AG's news topic classification dataset is constructed by Xiang Zhang (xiang.zhang@nyu.edu) from the dataset above. It is used as a text classification benchmark in the following paper: Xiang Zhang, Junbo Zhao, Yann LeCun. Character-level Convolutional Networks for Text Classification. Advances in Neural Information Processing Systems 28 (NIPS 2015)."
   ]
  },
  {
   "cell_type": "code",
   "execution_count": 5,
   "metadata": {},
   "outputs": [
    {
     "ename": "NameError",
     "evalue": "name 'model' is not defined",
     "output_type": "error",
     "traceback": [
      "\u001b[0;31m---------------------------------------------------------------------------\u001b[0m",
      "\u001b[0;31mNameError\u001b[0m                                 Traceback (most recent call last)",
      "\u001b[0;32m<ipython-input-5-5f15418b3570>\u001b[0m in \u001b[0;36m<module>\u001b[0;34m\u001b[0m\n\u001b[0;32m----> 1\u001b[0;31m \u001b[0mmodel\u001b[0m\u001b[0;34m.\u001b[0m\u001b[0msummary\u001b[0m\u001b[0;34m(\u001b[0m\u001b[0;34m)\u001b[0m\u001b[0;34m\u001b[0m\u001b[0;34m\u001b[0m\u001b[0m\n\u001b[0m",
      "\u001b[0;31mNameError\u001b[0m: name 'model' is not defined"
     ]
    }
   ],
   "source": [
    "model.summary()"
   ]
  },
  {
   "cell_type": "code",
   "execution_count": null,
   "metadata": {},
   "outputs": [],
   "source": [
    "emodel = TFElectraForSequenceClassification.from_pretrained('google/electra-base-discriminator', num_labels=4)"
   ]
  },
  {
   "cell_type": "code",
   "execution_count": null,
   "metadata": {},
   "outputs": [],
   "source": [
    "emodel.summary()"
   ]
  },
  {
   "cell_type": "code",
   "execution_count": null,
   "metadata": {},
   "outputs": [],
   "source": [
    "dbmodel = TFDistilBertForSequenceClassification.from_pretrained('distilbert-base-uncased')"
   ]
  },
  {
   "cell_type": "code",
   "execution_count": null,
   "metadata": {},
   "outputs": [],
   "source": [
    "dbmodel.summary()"
   ]
  },
  {
   "cell_type": "code",
   "execution_count": null,
   "metadata": {},
   "outputs": [],
   "source": [
    "TRAINING_DATA = './ag_news_csv/train.csv'\n",
    "VAL_DATA = './ag_news_csv/test.csv' "
   ]
  },
  {
   "cell_type": "markdown",
   "metadata": {},
   "source": [
    "### Gather Training Data\n",
    "Read in the CSV file into a pandas dataframe and then label the columns appropriately for easier access. The regex replacement takes care of line breaks in the training data."
   ]
  },
  {
   "cell_type": "code",
   "execution_count": null,
   "metadata": {},
   "outputs": [],
   "source": [
    "train_df = pd.read_csv(TRAINING_DATA, header=None)\n",
    "train_df.columns = ['label', 'title', 'desc']\n",
    "train_df.desc = train_df.desc.replace(r'\\\\', ' ', regex=True)\n",
    "\n",
    "test_df = pd.read_csv(VAL_DATA, header=None)\n",
    "test_df.columns = ['label', 'title', 'desc']\n",
    "test_df.desc = test_df.desc.replace(r'\\\\', ' ', regex=True)"
   ]
  },
  {
   "cell_type": "code",
   "execution_count": null,
   "metadata": {},
   "outputs": [],
   "source": [
    "train_df.label.value_counts()"
   ]
  },
  {
   "cell_type": "code",
   "execution_count": null,
   "metadata": {},
   "outputs": [],
   "source": [
    "test_df.label.value_counts()"
   ]
  },
  {
   "cell_type": "code",
   "execution_count": null,
   "metadata": {},
   "outputs": [],
   "source": [
    "# The labels are a column in the data frame - pop them into their own object\n",
    "train_labels = train_df.label.values\n",
    "train_labels = train_labels -1\n",
    "\n",
    "# Get the training sentences\n",
    "train_sentences = train_df.desc.values\n",
    "\n",
    "# The labels are a column in the data frame - pop them into their own object\n",
    "test_labels = test_df.label.values\n",
    "test_labels = test_labels -1\n",
    "\n",
    "# Get the training sentences\n",
    "test_sentences = test_df.desc.values"
   ]
  },
  {
   "cell_type": "code",
   "execution_count": null,
   "metadata": {},
   "outputs": [],
   "source": [
    "def create_dataset(sequences, labels, batch_size = 256):\n",
    "    input_ids = []\n",
    "    attention_mask = []\n",
    "    token_ids = []\n",
    "    \n",
    "    num_examples = (len(sequences) // batch_size) * batch_size\n",
    "    \n",
    "    for sent in tqdm(sequences[:num_examples]):\n",
    "        encoded_dict = tokenizer.encode_plus(sent,\n",
    "                     add_special_tokens = True,\n",
    "                     padding = 'max_length',\n",
    "                     max_length = 128,\n",
    "                     truncation = True,\n",
    "                     return_attention_mask = True,\n",
    "                     return_token_type_ids = True,\n",
    "                     return_tensors = 'tf') \n",
    "        input_ids.append(tf.reshape(encoded_dict['input_ids'],[-1]))\n",
    "        #token_ids.append(tf.reshape(encoded_dict['token_type_ids'],[-1]))\n",
    "        attention_mask.append(tf.reshape(encoded_dict['attention_mask'],[-1]))\n",
    "    \n",
    "    dataset = tf.data.Dataset.from_tensor_slices(({'input_ids': input_ids,\n",
    "                                              #'token_type_ids':token_ids,\n",
    "                                              'attention_mask':attention_mask}, labels[:num_examples]))\n",
    "    \n",
    "    return dataset\n",
    "    "
   ]
  },
  {
   "cell_type": "markdown",
   "metadata": {},
   "source": [
    "## Run the function above for both the training and test data"
   ]
  },
  {
   "cell_type": "code",
   "execution_count": null,
   "metadata": {},
   "outputs": [],
   "source": [
    "training_dataset = create_dataset(train_sentences, train_labels)\n",
    "test_dataset = create_dataset(test_sentences, test_labels)"
   ]
  },
  {
   "cell_type": "code",
   "execution_count": 47,
   "metadata": {},
   "outputs": [],
   "source": [
    "training_dataset = training_dataset.repeat(2).batch(256)\n",
    "test_dataset = test_dataset.repeat(2).shuffle(100)w"
   ]
  },
  {
   "cell_type": "code",
   "execution_count": null,
   "metadata": {},
   "outputs": [],
   "source": [
    "dataset = tf.data.Dataset.from_tensors(([1.], [1.])).repeat(100).batch(\n",
    "    global_batch_size)\n",
    "dist_dataset = mirrored_strategy.experimental_distribute_dataset(dataset)"
   ]
  },
  {
   "cell_type": "code",
   "execution_count": 31,
   "metadata": {},
   "outputs": [],
   "source": [
    "batched_training_dataset = training_dataset.shuffle(1024).batch(256)\n",
    "batched_test_dataset = test_dataset.shuffle(1024).batch(256)"
   ]
  },
  {
   "cell_type": "code",
   "execution_count": 11,
   "metadata": {},
   "outputs": [],
   "source": [
    "METRICS = [\n",
    "      tf.keras.metrics.SparseCategoricalAccuracy(name='accuracy')\n",
    "]"
   ]
  },
  {
   "cell_type": "code",
   "execution_count": 35,
   "metadata": {},
   "outputs": [
    {
     "name": "stderr",
     "output_type": "stream",
     "text": [
      "The parameters `output_attentions`, `output_hidden_states` and `use_cache` cannot be updated when calling a model.They have to be set to True/False in the config object (i.e.: `config=XConfig.from_pretrained('name', output_attentions=True)`).\n",
      "The parameter `return_dict` cannot be set in graph mode and will always be set to `True`.\n"
     ]
    },
    {
     "name": "stdout",
     "output_type": "stream",
     "text": [
      "Epoch 1/40\n"
     ]
    },
    {
     "name": "stderr",
     "output_type": "stream",
     "text": [
      "The parameters `output_attentions`, `output_hidden_states` and `use_cache` cannot be updated when calling a model.They have to be set to True/False in the config object (i.e.: `config=XConfig.from_pretrained('name', output_attentions=True)`).\n",
      "The parameter `return_dict` cannot be set in graph mode and will always be set to `True`.\n"
     ]
    },
    {
     "name": "stdout",
     "output_type": "stream",
     "text": [
      "20/20 [==============================] - 71s 4s/step - loss: 0.3026\n",
      "Epoch 2/40\n",
      "20/20 [==============================] - 72s 4s/step - loss: 0.1376\n",
      "Epoch 3/40\n",
      "20/20 [==============================] - 70s 4s/step - loss: 0.1167\n",
      "Epoch 4/40\n",
      "20/20 [==============================] - 69s 3s/step - loss: 0.1835\n",
      "Epoch 5/40\n",
      "20/20 [==============================] - 71s 4s/step - loss: 0.1886\n",
      "Epoch 6/40\n",
      "20/20 [==============================] - 96s 5s/step - loss: 0.1287\n",
      "Epoch 7/40\n",
      "20/20 [==============================] - 80s 4s/step - loss: 0.1494\n",
      "Epoch 8/40\n",
      "20/20 [==============================] - 77s 4s/step - loss: 0.1096\n",
      "Epoch 9/40\n",
      "20/20 [==============================] - 79s 4s/step - loss: 0.0982\n",
      "Epoch 10/40\n",
      "20/20 [==============================] - 77s 4s/step - loss: 0.0569\n",
      "Epoch 11/40\n",
      "20/20 [==============================] - 75s 4s/step - loss: 0.0682\n",
      "Epoch 12/40\n",
      "20/20 [==============================] - 75s 4s/step - loss: 0.0678\n",
      "Epoch 13/40\n",
      "20/20 [==============================] - 74s 4s/step - loss: 0.0865\n",
      "Epoch 14/40\n",
      "20/20 [==============================] - 73s 4s/step - loss: 0.1068\n",
      "Epoch 15/40\n",
      "20/20 [==============================] - 71s 4s/step - loss: 0.0422\n",
      "Epoch 16/40\n",
      "20/20 [==============================] - 74s 4s/step - loss: 0.1297\n",
      "Epoch 17/40\n",
      "20/20 [==============================] - 74s 4s/step - loss: 0.0934\n",
      "Epoch 18/40\n",
      "20/20 [==============================] - 74s 4s/step - loss: 0.0406\n",
      "Epoch 19/40\n",
      "20/20 [==============================] - 72s 4s/step - loss: 0.1585\n",
      "Epoch 20/40\n",
      "20/20 [==============================] - 73s 4s/step - loss: 0.0321\n",
      "Epoch 21/40\n",
      "20/20 [==============================] - 73s 4s/step - loss: 0.0285\n",
      "Epoch 22/40\n",
      "20/20 [==============================] - 72s 4s/step - loss: 0.1968\n",
      "Epoch 23/40\n",
      "20/20 [==============================] - 72s 4s/step - loss: 0.1903\n",
      "Epoch 24/40\n",
      "20/20 [==============================] - 74s 4s/step - loss: 0.0640\n",
      "Epoch 25/40\n",
      "20/20 [==============================] - 72s 4s/step - loss: 0.1241\n",
      "Epoch 26/40\n",
      "20/20 [==============================] - 72s 4s/step - loss: 0.2212\n",
      "Epoch 27/40\n",
      "20/20 [==============================] - 82s 4s/step - loss: 0.1870\n",
      "Epoch 28/40\n",
      "20/20 [==============================] - 72s 4s/step - loss: 0.1456\n",
      "Epoch 29/40\n",
      "20/20 [==============================] - 71s 4s/step - loss: 0.3254\n",
      "Epoch 30/40\n",
      "20/20 [==============================] - 70s 4s/step - loss: 0.2747\n",
      "Epoch 31/40\n",
      "20/20 [==============================] - 71s 4s/step - loss: 0.3026\n",
      "Epoch 32/40\n",
      "20/20 [==============================] - 78s 4s/step - loss: 0.3105\n",
      "Epoch 33/40\n",
      "20/20 [==============================] - 72s 4s/step - loss: 0.2975\n",
      "Epoch 34/40\n",
      "20/20 [==============================] - 70s 3s/step - loss: 0.3400\n",
      "Epoch 35/40\n",
      "20/20 [==============================] - 81s 4s/step - loss: 0.2750\n",
      "Epoch 36/40\n",
      "20/20 [==============================] - 75s 4s/step - loss: 0.4136\n",
      "Epoch 37/40\n",
      "20/20 [==============================] - 77s 4s/step - loss: 0.3121\n",
      "Epoch 38/40\n",
      "20/20 [==============================] - 92s 5s/step - loss: 0.1718\n",
      "Epoch 39/40\n",
      "20/20 [==============================] - 73s 4s/step - loss: 0.2339\n",
      "Epoch 40/40\n",
      "20/20 [==============================] - 71s 4s/step - loss: 0.1797\n"
     ]
    },
    {
     "data": {
      "text/plain": [
       "<tensorflow.python.keras.callbacks.History at 0x7fcd23d32b10>"
      ]
     },
     "execution_count": 35,
     "metadata": {},
     "output_type": "execute_result"
    }
   ],
   "source": [
    "optimizer = tf.keras.optimizers.Adam(learning_rate=1e-5)\n",
    "loss = tf.keras.losses.SparseCategoricalCrossentropy(from_logits=True)\n",
    "model.compile(optimizer=optimizer, loss=loss)\n",
    "model.fit(training_dataset, epochs=2, steps_per_epoch=468, validation_data = test_dataset)"
   ]
  },
  {
   "cell_type": "markdown",
   "metadata": {},
   "source": [
    "## Running on IBM Cloud\n",
    "\n",
    "1. Requistion a 2xV100 Node\n",
    "2. Clone github repo https://github.com/tomgoter/hf_demo.git\n",
    "3. Create docker image - `docker build -t transformer -f build.docker .`\n",
    "4. Run the docker image with the GPUS interactively and spawn a bash interface - `nvidia-docker run -it --rm transformer bash`\n",
    "5. Run the python script in background so you can monitor GPU usage- `nohup python multigpu_example.py -m MODELNAME -b BATCH_SIZE -l MAX_SEQUENCE_LENGTH&`\n",
    "- MODELNAME is the actual name of the model stored on huggingface (e.g., 'bert-base-uncased'). There is a list of acceptable choices in the argument parser.\n",
    "- BATCH_SIZE is the value per replica\n",
    "- MAX_SEQUENCE_LENGTH is the length that each input sequence will be padded/truncated to. note that memory and runtime requires are proportional to the square of this value.\n",
    "6. Monitor progress - `tail -f nohup.out`\n",
    "7. Monitor GPU Utilization - `nvidia-smi`\n"
   ]
  },
  {
   "cell_type": "markdown",
   "metadata": {},
   "source": [
    "## Model Evaluations\n",
    "Each model was trained using ~120K labeled examples starting with pretrained weights. Only three finetuning epochs were used with no hyperparameter tuning. Timing results are from 2 V100s on the IBM Cloud with 16GB of RAM each. P100 performance is expected to be ~3x slower. TPUv3 performance is expected to be ~5-10x faster. Performance comparison is skewed because of the fixed training length. A more fair comparison of performance would use early stopping to determine total training time until convergence. All cases use a shuffle buffer size of 1024. Unclear to me at the moment why the memory allocation didn't change significantly with DistilBert vs BertBase. There is also a Distilled version of RoBerta that came available a couple of months ago. There is no automated sequence classification in Transformers yet though.\n",
    "\n",
    "| Model | Global Batch Size | # GPUs | Batch Size per GPU | Max Token Length | Memory Usage| Minutes per Epoch | Ex per Minute | ValAccuracy |\n",
    "| --- | :---: | :---: | :---: | :---: | :---: | :---: | :---: | :---: |\n",
    "| BertBaseU       | 256 | 2 | 128  | 128 | OOM  | n/a | n/a | n/a |\n",
    "| BertBaseU       | 128 | 2 | 64  | 128 | 15.3 | 10  | 13,200 | 0.935 |\n",
    "| BertBaseU       | 128 | 2 | 64  | 64  | 15.3 | 5.0   | 23,600 | 0.937 |\n",
    "| BertBaseU       | 256 | 2 | 128 | 64  | 15.3 | 4.5 | 26,900 | 0.935 |\n",
    "| ---    | --- | --- | --- | ---  | --- | --- |---| --- | --- | \n",
    "| RobertaBase     | 128 | 2 | 64  | 128 | 15.3 | 10  | 13,200 | **0.944** |\n",
    "| RobertaBase     | 128 | 2 | 64  | 64  | 15.3 | 5.0 | 23,600 | 0.939 |\n",
    "| RobertaBase     | 128 | 2 | 64  | 32  | 15.3 | 3.0 | 39,000 | 0.926 |\n",
    "| RobertaBase     | 256 | 2 | 128 | 64  | 15.3 | 4.5 | 26,900 | 0.939 |\n",
    "| RobertaBase     | 256 | 2 | 128 | 128 | OOM | n/a | n/a | n/a |\n",
    "| RobertaBase     | 512 | 2 | 256 | 64  | OOM | n/a | n/a | n/a |\n",
    "| ---    | --- | --- | --- | ---  | --- | --- | --- | --- | \n",
    "| DistilBertBaseU | 256 | 2 | 128 | 128 | 15.3 | 1.8 | 71,400 | 0.865 |\n",
    "| DistilBertBaseU | 256 | 2 | 128 | 64  | 15.3 | 0.9 | 133,300 | 0.858 |\n",
    "| DistilBertBaseU | 512 | 2 | 256 | 128  | 15.3  | 1.5 | 77,800 | 0.846 |\n",
    "| DistilBertBaseU | 512 | 2 | 256 | 64  | 15.3 | 0.80 | 150,000 | 0.816 |\n",
    "| DistilBertBaseU | 1024 | 2 | 512 | 64  | 15.3 | 0.74 | **161,700** | 0.702 |\n",
    "| --- | --- | --- | --- | ---  | --- | --- | --- | --- | \n",
    "| ElectraBaseU    | 256 | 2 | 128 | 64  | 15.3 | 4.5 | 27,100 | 0.927 |\n",
    "| --- | --- | --- | --- | ---  | --- | --- | --- | --- | \n",
    "| 10 EPOCHS |  |  |  |   |  |  |  |  | \n",
    "| DistilBertBaseU | 256 | 2 | 128 | 128  | 15.3 | 1.8 | 71,400 | 0.899 |\n",
    "| DistilBertBaseU | 256 | 2 | 128 | 64  | 15.3 |  0.9 | 133,300 | 0.898 |"
   ]
  },
  {
   "cell_type": "markdown",
   "metadata": {},
   "source": [
    "## Scratch Area for Tokenization Exploration"
   ]
  },
  {
   "cell_type": "code",
   "execution_count": 41,
   "metadata": {},
   "outputs": [
    {
     "data": {
      "text/plain": [
       "['[ C L S ]',\n",
       " 's p e l l i n g',\n",
       " '# # z',\n",
       " 'i',\n",
       " '# # z',\n",
       " 'h a r d',\n",
       " '# # e',\n",
       " '[ S E P ]']"
      ]
     },
     "execution_count": 41,
     "metadata": {},
     "output_type": "execute_result"
    }
   ],
   "source": [
    "token_ids = tokenizer.encode('spellingz iz harde')\n",
    "[tokenizer.decode(token) for token in token_ids]"
   ]
  },
  {
   "cell_type": "code",
   "execution_count": 42,
   "metadata": {},
   "outputs": [
    {
     "data": {
      "text/plain": [
       "['<s>', 'spe', 'lling', 'z', ' ', 'iz', ' hard', 'e', '</s>']"
      ]
     },
     "execution_count": 42,
     "metadata": {},
     "output_type": "execute_result"
    }
   ],
   "source": [
    "rtoken_ids = rtokenizer.encode('spellingz iz harde')\n",
    "[rtokenizer.decode(rtoken) for rtoken in rtoken_ids]"
   ]
  },
  {
   "cell_type": "code",
   "execution_count": 36,
   "metadata": {},
   "outputs": [],
   "source": [
    "encoded_dict = tokenizer.encode_plus('spellingz',\n",
    "                     add_special_tokens = True,\n",
    "                     padding = 'max_length',\n",
    "                     max_length = 128) "
   ]
  },
  {
   "cell_type": "code",
   "execution_count": 44,
   "metadata": {},
   "outputs": [
    {
     "name": "stderr",
     "output_type": "stream",
     "text": [
      "100%|██████████| 120000/120000 [02:11<00:00, 910.84it/s] \n"
     ]
    }
   ],
   "source": [
    "tokens = []\n",
    "for sent in tqdm(train_sentences):\n",
    "    tokens.append(tokenizer.encode(sent))"
   ]
  },
  {
   "cell_type": "code",
   "execution_count": 45,
   "metadata": {},
   "outputs": [
    {
     "data": {
      "text/plain": [
       "43.359966666666665"
      ]
     },
     "execution_count": 45,
     "metadata": {},
     "output_type": "execute_result"
    }
   ],
   "source": [
    "np.mean([len(t) for t in tokens])"
   ]
  },
  {
   "cell_type": "code",
   "execution_count": 46,
   "metadata": {},
   "outputs": [
    {
     "data": {
      "text/plain": [
       "372"
      ]
     },
     "execution_count": 46,
     "metadata": {},
     "output_type": "execute_result"
    }
   ],
   "source": [
    "np.max([len(t) for t in tokens])"
   ]
  },
  {
   "cell_type": "code",
   "execution_count": 47,
   "metadata": {},
   "outputs": [
    {
     "data": {
      "text/plain": [
       "5"
      ]
     },
     "execution_count": 47,
     "metadata": {},
     "output_type": "execute_result"
    }
   ],
   "source": [
    "np.min([len(t) for t in tokens])"
   ]
  },
  {
   "cell_type": "code",
   "execution_count": 48,
   "metadata": {},
   "outputs": [],
   "source": [
    "token_lengths = [len(t) for t in tokens]"
   ]
  },
  {
   "cell_type": "code",
   "execution_count": 74,
   "metadata": {},
   "outputs": [
    {
     "data": {
      "text/plain": [
       "<matplotlib.collections.LineCollection at 0x7f91cf608f10>"
      ]
     },
     "execution_count": 74,
     "metadata": {},
     "output_type": "execute_result"
    },
    {
     "data": {
      "image/png": "[encoded data removed]",
      "text/plain": [
       "<Figure size 864x576 with 1 Axes>"
      ]
     },
     "metadata": {
      "needs_background": "light"
     },
     "output_type": "display_data"
    }
   ],
   "source": [
    "fig, ax =plt.subplots(1,1, figsize=(12,8))\n",
    "h = ax.hist(token_lengths, bins=30)\n",
    "ax.set_title('Distribution of Sequence Lengths with BERT Tokenizer', fontweight='bold',fontsize=16)\n",
    "ax.vlines(np.max(token_lengths), 0, max(h[0]),color='tab:red', linewidth=4)"
   ]
  },
  {
   "cell_type": "code",
   "execution_count": 64,
   "metadata": {},
   "outputs": [
    {
     "name": "stderr",
     "output_type": "stream",
     "text": [
      "100%|██████████| 120000/120000 [00:49<00:00, 2424.04it/s]\n"
     ]
    }
   ],
   "source": [
    "rtokens = []\n",
    "for sent in tqdm(train_sentences):\n",
    "    rtokens.append(rtokenizer.encode(sent))"
   ]
  },
  {
   "cell_type": "code",
   "execution_count": 65,
   "metadata": {},
   "outputs": [],
   "source": [
    "rtoken_lengths = [len(t) for t in rtokens]"
   ]
  },
  {
   "cell_type": "code",
   "execution_count": 76,
   "metadata": {},
   "outputs": [
    {
     "data": {
      "text/plain": [
       "<matplotlib.collections.LineCollection at 0x7f91e3bd3e90>"
      ]
     },
     "execution_count": 76,
     "metadata": {},
     "output_type": "execute_result"
    },
    {
     "data": {
      "image/png": "[encoded data removed]",
      "text/plain": [
       "<Figure size 864x576 with 1 Axes>"
      ]
     },
     "metadata": {
      "needs_background": "light"
     },
     "output_type": "display_data"
    }
   ],
   "source": [
    "fig, ax =plt.subplots(1,1, figsize=(12,8))\n",
    "h = ax.hist(rtoken_lengths, bins=30, color='tab:green')\n",
    "ax.set_title('Distribution of Sequence Lengths with RoBERTa Tokenizer', fontweight='bold',fontsize=16)\n",
    "ax.vlines(np.max(rtoken_lengths), 0, max(h[0]),color='tab:red', linewidth=4)"
   ]
  },
  {
   "cell_type": "code",
   "execution_count": null,
   "metadata": {},
   "outputs": [],
   "source": [
    "rtokens = []\n",
    "for sent in tqdm(train_sentences):\n",
    "    rtokens.append(rtokenizer.encode(sent))\n",
    "rtoken_lengths = [len(t) for t in rtokens]"
   ]
  },
  {
   "cell_type": "code",
   "execution_count": 73,
   "metadata": {},
   "outputs": [
    {
     "name": "stdout",
     "output_type": "stream",
     "text": [
      "Average Sequence Length with BERT Tokenizer: 43.36\n",
      "Average Sequence Length with Roberta Tokenizer: 43.71\n",
      "--------------------------------------------------\n",
      "Maximum Sequence Length with BERT Tokenizer: 372.00\n",
      "Maximum Sequence Length with Roberta Tokenizer: 356.00\n"
     ]
    }
   ],
   "source": [
    "print(f'Average Sequence Length with BERT Tokenizer: {np.mean(token_lengths):3.2f}')\n",
    "print(f'Average Sequence Length with Roberta Tokenizer: {np.mean(rtoken_lengths):3.2f}')\n",
    "print(50*'-')\n",
    "print(f'Maximum Sequence Length with BERT Tokenizer: {np.max(token_lengths):3.2f}')\n",
    "print(f'Maximum Sequence Length with Roberta Tokenizer: {np.max(rtoken_lengths):3.2f}')"
   ]
  },
  {
   "cell_type": "code",
   "execution_count": 89,
   "metadata": {},
   "outputs": [
    {
     "data": {
      "text/plain": [
       "0.9932517730102834"
      ]
     },
     "execution_count": 89,
     "metadata": {},
     "output_type": "execute_result"
    }
   ],
   "source": [
    "np.math.log(2.7)\n"
   ]
  },
  {
   "cell_type": "code",
   "execution_count": 92,
   "metadata": {},
   "outputs": [
    {
     "data": {
      "text/plain": [
       "7.04"
      ]
     },
     "execution_count": 92,
     "metadata": {},
     "output_type": "execute_result"
    }
   ],
   "source": [
    "110000000*64/1e9"
   ]
  },
  {
   "cell_type": "code",
   "execution_count": null,
   "metadata": {},
   "outputs": [],
   "source": []
  }
 ],
 "metadata": {
  "kernelspec": {
   "display_name": "Python 3",
   "language": "python",
   "name": "python3"
  },
  "language_info": {
   "codemirror_mode": {
    "name": "ipython",
    "version": 3
   },
   "file_extension": ".py",
   "mimetype": "text/x-python",
   "name": "python",
   "nbconvert_exporter": "python",
   "pygments_lexer": "ipython3",
   "version": "3.7.7"
  }
 },
 "nbformat": 4,
 "nbformat_minor": 4
}
